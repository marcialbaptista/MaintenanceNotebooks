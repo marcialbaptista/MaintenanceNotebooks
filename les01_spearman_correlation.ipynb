{
 "cells": [
  {
   "cell_type": "markdown",
   "source": [
    "# AE4465 (MM&A) - Lecture 1 (Spearman correlation)\n",
    "\n",
    "Assume you are working for airlineX. They provide you with data about their maintenance events, namely the size of the maintenance team and time to repair of each event. The first task they ask you is to see if repair times are proportional to the number of people working on the repair job."
   ],
   "metadata": {
    "collapsed": false
   }
  },
  {
   "cell_type": "markdown",
   "source": [
    "## Importing libraries and the data\n",
    "The first thing you need to do is unpack the data from the .csv file to a pandas dataframe structure. You can also open the file in Excel directly to check its contents.\n",
    "\n",
    " &nbsp;\n",
    "<center><img top-margin=\"10px\" alt=\"Excel data\" src=\"imgs\\excel_data2.png\" width=\"700\"/></center>\n"
   ],
   "metadata": {
    "collapsed": false
   }
  },
  {
   "cell_type": "code",
   "execution_count": 6,
   "outputs": [],
   "source": [
    "# import the libraries\n",
    "import pandas as pd\n",
    "import numpy as np\n",
    "import matplotlib.pyplot as plt\n",
    "import scipy.stats as stats"
   ],
   "metadata": {
    "collapsed": false
   }
  },
  {
   "cell_type": "code",
   "execution_count": 4,
   "outputs": [
    {
     "name": "stdout",
     "output_type": "stream",
     "text": [
      "The columns of the csv file are: \n",
      "0 - Column:  Maintenance event\n",
      "1 - Column:  TimeToRepair(h)\n",
      "2 - Column:  HumanResources\n"
     ]
    }
   ],
   "source": [
    "# Import the data in csv file\n",
    "maintenance_dt = pd.read_csv('data/les01_data2.csv')\n",
    "# Read the columns\n",
    "print('The columns of the csv file are: ')\n",
    "# Iterate over two arrays (column names and index) and print accordingly\n",
    "for colname, i in zip(maintenance_dt.columns, range(len(maintenance_dt.columns))):\n",
    "    print(i, '- Column: ', colname)"
   ],
   "metadata": {
    "collapsed": false
   }
  },
  {
   "cell_type": "markdown",
   "source": [
    "## Plotting the data with a scatter plot\n",
    "It is important to see how the data is correlated using a visualization tool. In this case, we will use the scatter plot. We will use the matplotlib package through the alias plt."
   ],
   "metadata": {
    "collapsed": false
   }
  },
  {
   "cell_type": "code",
   "execution_count": 5,
   "outputs": [
    {
     "data": {
      "text/plain": "<Figure size 640x480 with 1 Axes>",
      "image/png": "[encoded data removed]"
     },
     "metadata": {},
     "output_type": "display_data"
    }
   ],
   "source": [
    "# read the data into two arrays\n",
    "ttr = maintenance_dt['TimeToRepair(h)']\n",
    "members_team = maintenance_dt['HumanResources']\n",
    "# Plot the two indicators against each other\n",
    "plt.scatter(ttr, members_team)\n",
    "plt.ylabel('Time to repair')\n",
    "plt.xlabel('Number of members in team')\n",
    "plt.show()"
   ],
   "metadata": {
    "collapsed": false
   }
  },
  {
   "cell_type": "markdown",
   "source": [
    "## Visual relationship\n",
    "It seems there is a strong inverse linear relationship between the two data columns as you can see in the chart above. Smaller teams take longer time to finish the maintenance intervention."
   ],
   "metadata": {
    "collapsed": false
   }
  },
  {
   "cell_type": "markdown",
   "source": [
    "## Correlating the two indicators\n",
    "To correlate the two indicators you need to get the data from the pandas dataframe and use  correlation measures. We use the Pearson correlation and the Spearman correlation in this example.\n",
    "\n",
    "In statistics, the Pearson correlation coefficient, also known as Pearson's r, is a measure of the linear correlation between two variables (two columns of data). It is the ratio between the covariance of two variables and the product of their standard deviations. The result is always a value between −1 and 1.\n",
    "\n",
    "$$ \\rho _{X,Y}={\\frac {\\operatorname {cov} (X,Y)}{\\sigma _{X}\\sigma _{Y}} $$\n",
    "\n",
    "where:\n",
    "$ \\operatorname{cov} $  is the covariance\n",
    "$ \\sigma_{X} $  is the standard deviation of $X$\n",
    "$ \\sigma_{Y} $  is the standard deviation of $Y$\n",
    "\n",
    "In statistics, Spearman's rank correlation coefficient or Spearman's $\\rho$, named after Charles Spearman is a nonparametric measure of rank correlation (statistical dependence between the rankings of two variables). It assesses how well the relationship between two variables can be described using a monotonic function while Pearson's correlation assesses linear relationships. Spearman's correlation assesses monotonic relationships (whether linear or not). If there are no repeated data values, a perfect Spearman correlation of +1 or −1 occurs when each of the variables is a perfect monotone function of the other.\n",
    "\n",
    "$$ \\rho _{\\operatorname {R} (X),\\operatorname {R} (Y)}={\\frac {\\operatorname {cov} (\\operatorname {R} (X),\\operatorname {R} (Y))}{\\sigma _{\\operatorname {R} (X)}\\sigma _{\\operatorname {R} (Y)}$$\n",
    "\n",
    "where\n",
    "$\\rho$  denotes the usual Pearson correlation coefficient, but applied to the rank variables,\n",
    "$\\operatorname {cov} (\\operatorname {R} (X),\\operatorname {R} (Y))$ is the covariance of the rank variables,\n",
    "$ \\sigma _{\\operatorname {R} (X)}$ and $\\sigma _{\\operatorname {R} (Y)}$ are the standard deviations of the rank variables.\n"
   ],
   "metadata": {
    "collapsed": false
   }
  },
  {
   "cell_type": "markdown",
   "source": [
    "## Using the numpy correlation function\n",
    "\n",
    "Let's use our values and compute the correlation matrix using a numpy function."
   ],
   "metadata": {
    "collapsed": false
   }
  },
  {
   "cell_type": "code",
   "execution_count": 7,
   "outputs": [
    {
     "name": "stdout",
     "output_type": "stream",
     "text": [
      "Pearson rho -0.900270493010273\n",
      "Spearmans rho -0.8155929510453518\n"
     ]
    }
   ],
   "source": [
    "my_rho = np.corrcoef(ttr, members_team)\n",
    "rho, pval = stats.spearmanr(ttr, members_team)\n",
    "\n",
    "print('Pearson rho', my_rho[0,1])\n",
    "print('Spearmans rho', rho)"
   ],
   "metadata": {
    "collapsed": false
   }
  },
  {
   "cell_type": "markdown",
   "source": [
    "## Output of correlations\n",
    "The Pearson $\\rho$ and the Spearman's $\\rho$ are both high. This indicates a strong relationship (> 0.8) between the two variables. But since the correlation is negative we see that they are inversely related (one goes up, another goes down). Since the Pearson $\\rho$ is higher than the Spearman's $\\rho$ we can say the data is more linear than monotonic (see the chart above).\n",
    "\n",
    "## Conclusion\n",
    "You learned that correlation coefficients are statistics that measure the association between variables or features of datasets. They’re important in maintenance to analyze the data.\n",
    "\n",
    "You can use Python to calculate:\n",
    "\n",
    "- Pearson’s product-moment correlation coefficient\n",
    "- Spearman’s rank correlation coefficient\n",
    "- other coefficients such as Kendall's\n",
    "\n",
    "You can use NumPy, SciPy, and Pandas correlation functions and methods to effectively calculate these (and other) statistics, even when you work with large datasets. You also know how to visualize data."
   ],
   "metadata": {
    "collapsed": false
   }
  }
 ],
 "metadata": {
  "kernelspec": {
   "display_name": "Python 3",
   "language": "python",
   "name": "python3"
  },
  "language_info": {
   "codemirror_mode": {
    "name": "ipython",
    "version": 2
   },
   "file_extension": ".py",
   "mimetype": "text/x-python",
   "name": "python",
   "nbconvert_exporter": "python",
   "pygments_lexer": "ipython2",
   "version": "2.7.6"
  }
 },
 "nbformat": 4,
 "nbformat_minor": 0
}
