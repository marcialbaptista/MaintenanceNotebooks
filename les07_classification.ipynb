{
 "cells": [
  {
   "cell_type": "markdown",
   "source": [
    "### AE4465 (MM&A) - Lecture7 (Classification)\n",
    "\n",
    "Classification is the process of recognizing, understanding, and grouping ideas and objects into preset categories or “sub-populations.” Using pre-categorized training datasets, machine learning programs use a variety of algorithms to classify future datasets into categories.\n",
    "\n",
    "Classification algorithms in machine learning use input training data to predict the likelihood that subsequent data will fall into one of the predetermined categories. One of the most common uses of classification in maintenance is filtering snapshots of sensor data into “(near) fault” or “non-fault”.\n",
    "\n",
    "**Popular Classification Algorithms:**\n",
    "- Logistic Regression\n",
    "- Naive Bayes\n",
    "- K-Nearest Neighbors\n",
    "- Decision Tree\n",
    "- Support Vector Machines\n",
    "\n",
    "In this tutorial we will see how to develop a classification model based on CMAPSS data."
   ],
   "metadata": {
    "collapsed": false
   }
  },
  {
   "cell_type": "code",
   "execution_count": 27,
   "outputs": [],
   "source": [
    "#import the necessary libraries\n",
    "import numpy as np\n",
    "import pandas as pd\n",
    "import matplotlib.pyplot as plt\n",
    "import math\n",
    "import scipy.stats"
   ],
   "metadata": {
    "collapsed": false
   }
  },
  {
   "cell_type": "code",
   "execution_count": 5,
   "outputs": [
    {
     "data": {
      "text/plain": "   Equipment  Cycle     Op1     Op2    Op3       1       2        3        4  \\\n0          1      1 -0.0007 -0.0004  100.0  518.67  641.82  1589.70  1400.60   \n1          1      2  0.0019 -0.0003  100.0  518.67  642.15  1591.82  1403.14   \n2          1      3 -0.0043  0.0003  100.0  518.67  642.35  1587.99  1404.20   \n3          1      4  0.0007  0.0000  100.0  518.67  642.35  1582.79  1401.87   \n4          1      5 -0.0019 -0.0002  100.0  518.67  642.37  1582.85  1406.22   \n\n       5  ...      12       13       14      15    16   17    18     19  \\\n0  14.62  ...  521.66  2388.02  8138.62  8.4195  0.03  392  2388  100.0   \n1  14.62  ...  522.28  2388.07  8131.49  8.4318  0.03  392  2388  100.0   \n2  14.62  ...  522.42  2388.03  8133.23  8.4178  0.03  390  2388  100.0   \n3  14.62  ...  522.86  2388.08  8133.83  8.3682  0.03  392  2388  100.0   \n4  14.62  ...  522.19  2388.04  8133.80  8.4294  0.03  393  2388  100.0   \n\n      20       21  \n0  39.06  23.4190  \n1  39.00  23.4236  \n2  38.95  23.3442  \n3  38.88  23.3739  \n4  38.90  23.4044  \n\n[5 rows x 26 columns]",
      "text/html": "<div>\n<style scoped>\n    .dataframe tbody tr th:only-of-type {\n        vertical-align: middle;\n    }\n\n    .dataframe tbody tr th {\n        vertical-align: top;\n    }\n\n    .dataframe thead th {\n        text-align: right;\n    }\n</style>\n<table border=\"1\" class=\"dataframe\">\n  <thead>\n    <tr style=\"text-align: right;\">\n      <th></th>\n      <th>Equipment</th>\n      <th>Cycle</th>\n      <th>Op1</th>\n      <th>Op2</th>\n      <th>Op3</th>\n      <th>1</th>\n      <th>2</th>\n      <th>3</th>\n      <th>4</th>\n      <th>5</th>\n      <th>...</th>\n      <th>12</th>\n      <th>13</th>\n      <th>14</th>\n      <th>15</th>\n      <th>16</th>\n      <th>17</th>\n      <th>18</th>\n      <th>19</th>\n      <th>20</th>\n      <th>21</th>\n    </tr>\n  </thead>\n  <tbody>\n    <tr>\n      <th>0</th>\n      <td>1</td>\n      <td>1</td>\n      <td>-0.0007</td>\n      <td>-0.0004</td>\n      <td>100.0</td>\n      <td>518.67</td>\n      <td>641.82</td>\n      <td>1589.70</td>\n      <td>1400.60</td>\n      <td>14.62</td>\n      <td>...</td>\n      <td>521.66</td>\n      <td>2388.02</td>\n      <td>8138.62</td>\n      <td>8.4195</td>\n      <td>0.03</td>\n      <td>392</td>\n      <td>2388</td>\n      <td>100.0</td>\n      <td>39.06</td>\n      <td>23.4190</td>\n    </tr>\n    <tr>\n      <th>1</th>\n      <td>1</td>\n      <td>2</td>\n      <td>0.0019</td>\n      <td>-0.0003</td>\n      <td>100.0</td>\n      <td>518.67</td>\n      <td>642.15</td>\n      <td>1591.82</td>\n      <td>1403.14</td>\n      <td>14.62</td>\n      <td>...</td>\n      <td>522.28</td>\n      <td>2388.07</td>\n      <td>8131.49</td>\n      <td>8.4318</td>\n      <td>0.03</td>\n      <td>392</td>\n      <td>2388</td>\n      <td>100.0</td>\n      <td>39.00</td>\n      <td>23.4236</td>\n    </tr>\n    <tr>\n      <th>2</th>\n      <td>1</td>\n      <td>3</td>\n      <td>-0.0043</td>\n      <td>0.0003</td>\n      <td>100.0</td>\n      <td>518.67</td>\n      <td>642.35</td>\n      <td>1587.99</td>\n      <td>1404.20</td>\n      <td>14.62</td>\n      <td>...</td>\n      <td>522.42</td>\n      <td>2388.03</td>\n      <td>8133.23</td>\n      <td>8.4178</td>\n      <td>0.03</td>\n      <td>390</td>\n      <td>2388</td>\n      <td>100.0</td>\n      <td>38.95</td>\n      <td>23.3442</td>\n    </tr>\n    <tr>\n      <th>3</th>\n      <td>1</td>\n      <td>4</td>\n      <td>0.0007</td>\n      <td>0.0000</td>\n      <td>100.0</td>\n      <td>518.67</td>\n      <td>642.35</td>\n      <td>1582.79</td>\n      <td>1401.87</td>\n      <td>14.62</td>\n      <td>...</td>\n      <td>522.86</td>\n      <td>2388.08</td>\n      <td>8133.83</td>\n      <td>8.3682</td>\n      <td>0.03</td>\n      <td>392</td>\n      <td>2388</td>\n      <td>100.0</td>\n      <td>38.88</td>\n      <td>23.3739</td>\n    </tr>\n    <tr>\n      <th>4</th>\n      <td>1</td>\n      <td>5</td>\n      <td>-0.0019</td>\n      <td>-0.0002</td>\n      <td>100.0</td>\n      <td>518.67</td>\n      <td>642.37</td>\n      <td>1582.85</td>\n      <td>1406.22</td>\n      <td>14.62</td>\n      <td>...</td>\n      <td>522.19</td>\n      <td>2388.04</td>\n      <td>8133.80</td>\n      <td>8.4294</td>\n      <td>0.03</td>\n      <td>393</td>\n      <td>2388</td>\n      <td>100.0</td>\n      <td>38.90</td>\n      <td>23.4044</td>\n    </tr>\n  </tbody>\n</table>\n<p>5 rows × 26 columns</p>\n</div>"
     },
     "execution_count": 5,
     "metadata": {},
     "output_type": "execute_result"
    }
   ],
   "source": [
    "df1 = pd.read_csv('data/les05_CMAPSStrain001.txt', sep=' ')\n",
    "df1.head()"
   ],
   "metadata": {
    "collapsed": false
   }
  },
  {
   "cell_type": "markdown",
   "source": [
    "### RUL Calculation\n",
    "\n",
    "It is possible to calculate the RUL using groupby function."
   ],
   "metadata": {
    "collapsed": false
   }
  },
  {
   "cell_type": "code",
   "execution_count": 8,
   "outputs": [
    {
     "name": "stderr",
     "output_type": "stream",
     "text": [
      "C:\\Users\\Owner\\AppData\\Local\\Temp\\ipykernel_13840\\4138163021.py:5: FutureWarning: Not prepending group keys to the result index of transform-like apply. In the future, the group keys will be included in the index, regardless of whether the applied function returns a like-indexed object.\n",
      "To preserve the previous behavior, use\n",
      "\n",
      "\t>>> .groupby(..., group_keys=False)\n",
      "\n",
      "To adopt the future behavior and silence this warning, use \n",
      "\n",
      "\t>>> .groupby(..., group_keys=True)\n",
      "  df1 = df1.groupby('Equipment').apply(add_rul)\n"
     ]
    },
    {
     "data": {
      "text/plain": "   Equipment  Cycle     Op1     Op2    Op3       1       2        3        4  \\\n0          1      1 -0.0007 -0.0004  100.0  518.67  641.82  1589.70  1400.60   \n1          1      2  0.0019 -0.0003  100.0  518.67  642.15  1591.82  1403.14   \n2          1      3 -0.0043  0.0003  100.0  518.67  642.35  1587.99  1404.20   \n3          1      4  0.0007  0.0000  100.0  518.67  642.35  1582.79  1401.87   \n4          1      5 -0.0019 -0.0002  100.0  518.67  642.37  1582.85  1406.22   \n\n       5  ...       13       14      15    16   17    18     19     20  \\\n0  14.62  ...  2388.02  8138.62  8.4195  0.03  392  2388  100.0  39.06   \n1  14.62  ...  2388.07  8131.49  8.4318  0.03  392  2388  100.0  39.00   \n2  14.62  ...  2388.03  8133.23  8.4178  0.03  390  2388  100.0  38.95   \n3  14.62  ...  2388.08  8133.83  8.3682  0.03  392  2388  100.0  38.88   \n4  14.62  ...  2388.04  8133.80  8.4294  0.03  393  2388  100.0  38.90   \n\n        21  RUL  \n0  23.4190  191  \n1  23.4236  190  \n2  23.3442  189  \n3  23.3739  188  \n4  23.4044  187  \n\n[5 rows x 27 columns]",
      "text/html": "<div>\n<style scoped>\n    .dataframe tbody tr th:only-of-type {\n        vertical-align: middle;\n    }\n\n    .dataframe tbody tr th {\n        vertical-align: top;\n    }\n\n    .dataframe thead th {\n        text-align: right;\n    }\n</style>\n<table border=\"1\" class=\"dataframe\">\n  <thead>\n    <tr style=\"text-align: right;\">\n      <th></th>\n      <th>Equipment</th>\n      <th>Cycle</th>\n      <th>Op1</th>\n      <th>Op2</th>\n      <th>Op3</th>\n      <th>1</th>\n      <th>2</th>\n      <th>3</th>\n      <th>4</th>\n      <th>5</th>\n      <th>...</th>\n      <th>13</th>\n      <th>14</th>\n      <th>15</th>\n      <th>16</th>\n      <th>17</th>\n      <th>18</th>\n      <th>19</th>\n      <th>20</th>\n      <th>21</th>\n      <th>RUL</th>\n    </tr>\n  </thead>\n  <tbody>\n    <tr>\n      <th>0</th>\n      <td>1</td>\n      <td>1</td>\n      <td>-0.0007</td>\n      <td>-0.0004</td>\n      <td>100.0</td>\n      <td>518.67</td>\n      <td>641.82</td>\n      <td>1589.70</td>\n      <td>1400.60</td>\n      <td>14.62</td>\n      <td>...</td>\n      <td>2388.02</td>\n      <td>8138.62</td>\n      <td>8.4195</td>\n      <td>0.03</td>\n      <td>392</td>\n      <td>2388</td>\n      <td>100.0</td>\n      <td>39.06</td>\n      <td>23.4190</td>\n      <td>191</td>\n    </tr>\n    <tr>\n      <th>1</th>\n      <td>1</td>\n      <td>2</td>\n      <td>0.0019</td>\n      <td>-0.0003</td>\n      <td>100.0</td>\n      <td>518.67</td>\n      <td>642.15</td>\n      <td>1591.82</td>\n      <td>1403.14</td>\n      <td>14.62</td>\n      <td>...</td>\n      <td>2388.07</td>\n      <td>8131.49</td>\n      <td>8.4318</td>\n      <td>0.03</td>\n      <td>392</td>\n      <td>2388</td>\n      <td>100.0</td>\n      <td>39.00</td>\n      <td>23.4236</td>\n      <td>190</td>\n    </tr>\n    <tr>\n      <th>2</th>\n      <td>1</td>\n      <td>3</td>\n      <td>-0.0043</td>\n      <td>0.0003</td>\n      <td>100.0</td>\n      <td>518.67</td>\n      <td>642.35</td>\n      <td>1587.99</td>\n      <td>1404.20</td>\n      <td>14.62</td>\n      <td>...</td>\n      <td>2388.03</td>\n      <td>8133.23</td>\n      <td>8.4178</td>\n      <td>0.03</td>\n      <td>390</td>\n      <td>2388</td>\n      <td>100.0</td>\n      <td>38.95</td>\n      <td>23.3442</td>\n      <td>189</td>\n    </tr>\n    <tr>\n      <th>3</th>\n      <td>1</td>\n      <td>4</td>\n      <td>0.0007</td>\n      <td>0.0000</td>\n      <td>100.0</td>\n      <td>518.67</td>\n      <td>642.35</td>\n      <td>1582.79</td>\n      <td>1401.87</td>\n      <td>14.62</td>\n      <td>...</td>\n      <td>2388.08</td>\n      <td>8133.83</td>\n      <td>8.3682</td>\n      <td>0.03</td>\n      <td>392</td>\n      <td>2388</td>\n      <td>100.0</td>\n      <td>38.88</td>\n      <td>23.3739</td>\n      <td>188</td>\n    </tr>\n    <tr>\n      <th>4</th>\n      <td>1</td>\n      <td>5</td>\n      <td>-0.0019</td>\n      <td>-0.0002</td>\n      <td>100.0</td>\n      <td>518.67</td>\n      <td>642.37</td>\n      <td>1582.85</td>\n      <td>1406.22</td>\n      <td>14.62</td>\n      <td>...</td>\n      <td>2388.04</td>\n      <td>8133.80</td>\n      <td>8.4294</td>\n      <td>0.03</td>\n      <td>393</td>\n      <td>2388</td>\n      <td>100.0</td>\n      <td>38.90</td>\n      <td>23.4044</td>\n      <td>187</td>\n    </tr>\n  </tbody>\n</table>\n<p>5 rows × 27 columns</p>\n</div>"
     },
     "execution_count": 8,
     "metadata": {},
     "output_type": "execute_result"
    }
   ],
   "source": [
    "def add_rul(g):\n",
    "    g['RUL'] = max(g['Cycle']) - g['Cycle']\n",
    "    return g\n",
    "\n",
    "df1 = df1.groupby('Equipment').apply(add_rul)\n",
    "df1.head()"
   ],
   "metadata": {
    "collapsed": false
   }
  },
  {
   "cell_type": "markdown",
   "source": [
    "### Classification Label\n",
    "\n",
    "We can now create a classification label about the failure status"
   ],
   "metadata": {
    "collapsed": false
   }
  },
  {
   "cell_type": "code",
   "execution_count": 18,
   "outputs": [],
   "source": [
    "cycle=30\n",
    "df1['label'] = df1['RUL'].apply(lambda x: 1 if x <= cycle else 0)"
   ],
   "metadata": {
    "collapsed": false
   }
  },
  {
   "cell_type": "markdown",
   "source": [
    "### Prepare the training and testing data\n",
    "\n",
    "Prepare the data for running the model and also evaluating it."
   ],
   "metadata": {
    "collapsed": false
   }
  },
  {
   "cell_type": "code",
   "execution_count": 25,
   "outputs": [
    {
     "name": "stderr",
     "output_type": "stream",
     "text": [
      "C:\\Users\\Owner\\AppData\\Local\\Temp\\ipykernel_13840\\856410485.py:12: SettingWithCopyWarning: \n",
      "A value is trying to be set on a copy of a slice from a DataFrame.\n",
      "Try using .loc[row_indexer,col_indexer] = value instead\n",
      "\n",
      "See the caveats in the documentation: https://pandas.pydata.org/pandas-docs/stable/user_guide/indexing.html#returning-a-view-versus-a-copy\n",
      "  X1_train[col] = (X1_train[col].values - np.mean(X1_train[col].values)) / np.std(X1_train[col].values)\n",
      "C:\\Users\\Owner\\AppData\\Local\\Temp\\ipykernel_13840\\856410485.py:14: SettingWithCopyWarning: \n",
      "A value is trying to be set on a copy of a slice from a DataFrame.\n",
      "Try using .loc[row_indexer,col_indexer] = value instead\n",
      "\n",
      "See the caveats in the documentation: https://pandas.pydata.org/pandas-docs/stable/user_guide/indexing.html#returning-a-view-versus-a-copy\n",
      "  X1_train[col] = 1\n",
      "C:\\Users\\Owner\\AppData\\Local\\Temp\\ipykernel_13840\\856410485.py:17: SettingWithCopyWarning: \n",
      "A value is trying to be set on a copy of a slice from a DataFrame.\n",
      "Try using .loc[row_indexer,col_indexer] = value instead\n",
      "\n",
      "See the caveats in the documentation: https://pandas.pydata.org/pandas-docs/stable/user_guide/indexing.html#returning-a-view-versus-a-copy\n",
      "  X1_test[col] = (X1_test[col].values - np.mean(X1_test[col].values)) / np.std(X1_test[col].values)\n",
      "C:\\Users\\Owner\\AppData\\Local\\Temp\\ipykernel_13840\\856410485.py:19: SettingWithCopyWarning: \n",
      "A value is trying to be set on a copy of a slice from a DataFrame.\n",
      "Try using .loc[row_indexer,col_indexer] = value instead\n",
      "\n",
      "See the caveats in the documentation: https://pandas.pydata.org/pandas-docs/stable/user_guide/indexing.html#returning-a-view-versus-a-copy\n",
      "  X1_test[col] = 1\n"
     ]
    }
   ],
   "source": [
    "y1 = df1['label']\n",
    "X1 = df1.drop(['RUL', 'Equipment', 'label'], axis=1)\n",
    "\n",
    "y_1_train = y1[df1.Equipment.values < 80]\n",
    "y_1_test = y1[df1.Equipment.values >= 80]\n",
    "\n",
    "X1_train = X1.loc[df1.Equipment < 80, :]\n",
    "X1_test = X1.loc[df1.Equipment >= 80, :]\n",
    "\n",
    "for col in X1_train.columns:\n",
    "    if np.std(X1_train[col].values) != 0:\n",
    "        X1_train[col] = (X1_train[col].values - np.mean(X1_train[col].values)) / np.std(X1_train[col].values)\n",
    "    else:\n",
    "        X1_train[col] = 1\n",
    "for col in X1_train.columns:\n",
    "    if np.std(X1_test[col].values) != 0:\n",
    "        X1_test[col] = (X1_test[col].values - np.mean(X1_test[col].values)) / np.std(X1_test[col].values)\n",
    "    else:\n",
    "        X1_test[col] = 1"
   ],
   "metadata": {
    "collapsed": false
   }
  },
  {
   "cell_type": "markdown",
   "source": [
    "### Model Preparation\n",
    "\n",
    "Now we can prepare the modeling framework and run it [might take a while]"
   ],
   "metadata": {
    "collapsed": false
   }
  },
  {
   "cell_type": "code",
   "execution_count": 26,
   "outputs": [
    {
     "name": "stdout",
     "output_type": "stream",
     "text": [
      "Score of  Nearest Neighbors 0.9480547242411287\n",
      "Score of  Linear SVM 0.9581017528858486\n",
      "Score of  Decision Tree 0.9559640872167593\n",
      "Score of  Random Forest 0.9576742197520308\n",
      "Score of  Neural Net 0.9551090209491235\n",
      "Score of  AdaBoost 0.9568191534843951\n",
      "Score of  Naive Bayes 0.860837964942283\n",
      "Score of  QDA 0.860837964942283\n"
     ]
    },
    {
     "name": "stderr",
     "output_type": "stream",
     "text": [
      "D:\\Projects\\ModelBasedPrognostics\\venv\\lib\\site-packages\\sklearn\\discriminant_analysis.py:887: UserWarning: Variables are collinear\n",
      "  warnings.warn(\"Variables are collinear\")\n"
     ]
    }
   ],
   "source": [
    "from matplotlib.colors import ListedColormap\n",
    "from sklearn.model_selection import train_test_split\n",
    "from sklearn.preprocessing import StandardScaler\n",
    "from sklearn.datasets import make_moons, make_circles, make_classification\n",
    "from sklearn.neural_network import MLPClassifier\n",
    "from sklearn.neighbors import KNeighborsClassifier\n",
    "from sklearn.svm import SVC\n",
    "from sklearn.gaussian_process import GaussianProcessClassifier\n",
    "from sklearn.gaussian_process.kernels import RBF\n",
    "from sklearn.tree import DecisionTreeClassifier\n",
    "from sklearn.ensemble import RandomForestClassifier, AdaBoostClassifier\n",
    "from sklearn.naive_bayes import GaussianNB\n",
    "from sklearn.discriminant_analysis import QuadraticDiscriminantAnalysis\n",
    "from sklearn.inspection import DecisionBoundaryDisplay\n",
    "\n",
    "names = [\n",
    "    \"Nearest Neighbors\",\n",
    "    \"Linear SVM\",\n",
    "    \"Decision Tree\",\n",
    "    \"Random Forest\",\n",
    "    \"Neural Net\",\n",
    "    \"AdaBoost\",\n",
    "    \"Naive Bayes\",\n",
    "    \"QDA\",\n",
    "]\n",
    "\n",
    "classifiers = [\n",
    "    KNeighborsClassifier(3),\n",
    "    SVC(kernel=\"linear\", C=0.025),\n",
    "    DecisionTreeClassifier(max_depth=5),\n",
    "    RandomForestClassifier(max_depth=5, n_estimators=10, max_features=1),\n",
    "    MLPClassifier(alpha=1, max_iter=1000),\n",
    "    AdaBoostClassifier(),\n",
    "    GaussianNB(),\n",
    "    QuadraticDiscriminantAnalysis(),\n",
    "]\n",
    "\n",
    "\n",
    "# iterate over classifiers\n",
    "for name, clf in zip(names, classifiers):\n",
    "    clf.fit(X1_train, y_1_train)\n",
    "    score = clf.score(X1_test, y_1_test)\n",
    "    print('Score of ', name, score)"
   ],
   "metadata": {
    "collapsed": false
   }
  }
 ],
 "metadata": {
  "kernelspec": {
   "display_name": "Python 3",
   "language": "python",
   "name": "python3"
  },
  "language_info": {
   "codemirror_mode": {
    "name": "ipython",
    "version": 2
   },
   "file_extension": ".py",
   "mimetype": "text/x-python",
   "name": "python",
   "nbconvert_exporter": "python",
   "pygments_lexer": "ipython2",
   "version": "2.7.6"
  }
 },
 "nbformat": 4,
 "nbformat_minor": 0
}
