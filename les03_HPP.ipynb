{
 "cells": [
  {
   "cell_type": "markdown",
   "source": [
    "# AE4465 (MM&A) - Lecture3 (HPP process)\n",
    "\n",
    "A classical problem in maintenance is how to improve the reliability using mathematical models. In order to minimize failures in engineering systems, the designer must understand why and how failures occur. The knowledge of stochastic processes, governed by random numbers and distributions, is indispensable here.\n",
    "\n",
    "If failures occur exponentially, meaning the unit fails constantly during a time interval $(t, t + dt]$ irrespective of time $t$, the system forms a HPP.\n",
    "\n",
    "In an HPP failures occur randomly in $(t, t + dt]$ with probability $\\lambda dt$ for constant $\\lambda > 0$ and interarrival times between failures following an exponential distribution $$1 - e^{-\\lambda t}$$.\n",
    "\n",
    "In this notebook you will see how to capture the features of a HPP from real data and how to simulate the underlying process. You will also learn how to establish a fixed-time  maintenance schedule based on the HPP."
   ],
   "metadata": {
    "collapsed": false
   },
   "outputs": [
    {
     "ename": "SyntaxError",
     "evalue": "invalid syntax (1593724086.py, line 3)",
     "output_type": "error",
     "traceback": [
      "\u001B[1;36m  Cell \u001B[1;32mIn [1], line 3\u001B[1;36m\u001B[0m\n\u001B[1;33m    A classical problem in maintenance is how to improve the reliability using mathematical models. In order to minimize failures in engineering systems, the designer must understand why and how failures occur. The knowledge of stochastic processes, governed by random numbers and distributions, is indispensable here.\u001B[0m\n\u001B[1;37m      ^\u001B[0m\n\u001B[1;31mSyntaxError\u001B[0m\u001B[1;31m:\u001B[0m invalid syntax\n"
     ]
    }
   ],
   "execution_count": 1
  },
  {
   "cell_type": "code",
   "execution_count": 13,
   "outputs": [],
   "source": [
    "import pandas as pd\n",
    "import matplotlib.pyplot as plt\n",
    "import numpy as np\n",
    "from scipy.stats import poisson\n",
    "import random"
   ],
   "metadata": {
    "collapsed": false
   }
  },
  {
   "cell_type": "code",
   "execution_count": 4,
   "outputs": [
    {
     "name": "stdout",
     "output_type": "stream",
     "text": [
      "The columns of the csv file are: \n",
      "0 - Column:  Failure\n",
      "1 - Column:  Interarrival time\n",
      "   Failure  Interarrival time\n",
      "0        1           1.033374\n",
      "1        2           2.595481\n",
      "2        3           4.592028\n",
      "3        4           2.168895\n",
      "4        5           3.088994\n"
     ]
    }
   ],
   "source": [
    "# Import the data in csv file\n",
    "interarrival_times = pd.read_csv('data/les03_HPPdata.csv')\n",
    "# Read the columns\n",
    "print('The columns of the csv file are: ')\n",
    "# Iterate over two arrays (column names and index) and print accordingly\n",
    "for colname, i in zip(interarrival_times.columns, range(len(interarrival_times.columns))):\n",
    "    print(i, '- Column: ', colname)\n",
    "# print the 5 first rows of the dataframe\n",
    "print(interarrival_times.head())"
   ],
   "metadata": {
    "collapsed": false
   }
  },
  {
   "cell_type": "code",
   "execution_count": 7,
   "outputs": [
    {
     "name": "stdout",
     "output_type": "stream",
     "text": [
      "The rate of arrival is  0.20933528869805645\n"
     ]
    }
   ],
   "source": [
    "# calculate the calendar time points where the events have happened\n",
    "global_times = [0]\n",
    "global_time = 0\n",
    "for interarrival_time in interarrival_times['Interarrival time']:\n",
    "    global_time = interarrival_time + global_time\n",
    "    global_times.append(global_time)\n",
    "\n",
    "# calculate the mean value of the interarrival time\n",
    "mean_interravaltime = np.mean(interarrival_times['Interarrival time'])\n",
    "rate_arrival = 1 / mean_interravaltime\n",
    "print('The rate of arrival is ', rate_arrival)"
   ],
   "metadata": {
    "collapsed": false
   }
  },
  {
   "cell_type": "code",
   "execution_count": 12,
   "outputs": [
    {
     "data": {
      "text/plain": "<Figure size 640x480 with 1 Axes>",
      "image/png": "[encoded data removed]"
     },
     "metadata": {},
     "output_type": "display_data"
    }
   ],
   "source": [
    "X = [0, 1, 2, 3, 4, 5]\n",
    "# Probability values\n",
    "poisson_pd = poisson.pmf(X, rate_arrival)\n",
    "\n",
    "plt.plot(X, poisson_pd, 'bo', ms=8, label='poisson pmf')\n",
    "plt.ylabel(\"Probability\")\n",
    "plt.xlabel(\"X - No. of failures in interval\")\n",
    "plt.title(\"Poisson Distribution - No. of Failures in interval Vs Probability\")\n",
    "plt.vlines(X, 0, poisson_pd, colors='b', lw=5, alpha=0.5)\n",
    "plt.show()"
   ],
   "metadata": {
    "collapsed": false
   }
  },
  {
   "cell_type": "code",
   "execution_count": 23,
   "outputs": [
    {
     "name": "stdout",
     "output_type": "stream",
     "text": [
      "Failures:  [2.20761657]\n",
      "Doing a repair every  4.77702544190909\n",
      "Failures:  [3.18598563]\n",
      "Doing a repair every  4.77702544190909\n",
      "Failures:  [0.70921539 1.93566107 3.3874157 ]\n",
      "Doing a repair every  4.77702544190909\n",
      "Failures:  [1.02475588 1.43046861]\n",
      "Doing a repair every  4.77702544190909\n",
      "Failures:  [4.24233514 4.64436347]\n",
      "Doing a repair every  4.77702544190909\n",
      "Failures:  [0.64447554 3.49483169]\n",
      "Doing a repair every  4.77702544190909\n",
      "Failures:  [0.18966876]\n",
      "Doing a repair every  4.77702544190909\n",
      "Failures:  [0.1365416]\n",
      "Doing a repair every  4.77702544190909\n",
      "Failures:  []\n",
      "Doing a repair every  4.77702544190909\n",
      "Failures:  [2.92626994 4.04569093]\n",
      "Doing a repair every  4.77702544190909\n",
      "[2.207616569467327, 3.1859856258624015, 0.7092153857693833, 1.9356610708122428, 3.3874157037884878, 1.024755879531529, 1.430468608220349, 4.24233514390602, 4.644363471146394, 0.644475540716281, 3.494831692883717, 0.1896687551725555, 0.1365415983410339, 2.926269937793914, 4.04569093341679]\n"
     ]
    }
   ],
   "source": [
    "uncatched_failures = []\n",
    "for i in range(10):\n",
    "    inter_arrivals = []\n",
    "    for i in range(20):\n",
    "        temp = random.expovariate(rate_arrival)\n",
    "        inter_arrivals.append(temp)\n",
    "    global_time = np.cumsum(inter_arrivals)\n",
    "    preventive_maintenance_schedule = 1/rate_arrival\n",
    "    inter_arrivals = np.array(inter_arrivals)\n",
    "    failures = global_time[global_time < preventive_maintenance_schedule]\n",
    "    uncatched_failures.extend(failures)\n",
    "    print('Failures: ', failures)\n",
    "    print('Doing a repair every ', preventive_maintenance_schedule)\n",
    "print(uncatched_failures)\n"
   ],
   "metadata": {
    "collapsed": false
   }
  }
 ],
 "metadata": {
  "kernelspec": {
   "display_name": "Python 3",
   "language": "python",
   "name": "python3"
  },
  "language_info": {
   "codemirror_mode": {
    "name": "ipython",
    "version": 2
   },
   "file_extension": ".py",
   "mimetype": "text/x-python",
   "name": "python",
   "nbconvert_exporter": "python",
   "pygments_lexer": "ipython2",
   "version": "2.7.6"
  }
 },
 "nbformat": 4,
 "nbformat_minor": 0
}
