{
 "cells": [
  {
   "cell_type": "markdown",
   "source": [
    "# AE4465 (MM&A) - Lecture 1 (RAMS)\n",
    "\n",
    "Assume you are working for airlineX. They provide you with data about their maintenance processes for different equipment. The first task they ask you is to see are the KPIs of RAMS. Please check the following paper for more information:\n",
    "\n",
    "Galar, Diego, L. Berges, and Javier Royo. \"RAMS parameters as KPI rotating machinery maintenance.\" International Congress on Condition Monitoring and Diagnostic Engineering Management: 28/06/2010-02/07/2010. Sunrise Publishing, 2010."
   ],
   "metadata": {
    "collapsed": false
   }
  },
  {
   "cell_type": "markdown",
   "source": [
    "## Context\n",
    "\n",
    "The implementation of a performance metrics in maintenance requires the development of indicators. These indicators are RAMS parameters derived from physical assets. Given the case of an aircraft critical equipment we develop RAMS parameters. The use of objective indicators to assess maintenance can help to correct deficiencies and increase the performance of an airline.\n",
    "\n",
    "We can calculate the KPIs of equipment A described on the Excel.\n",
    "\n",
    " &nbsp;\n",
    "<center><img top-margin=\"10px\" alt=\"Excel data\" src=\"imgs\\excel_data_3.png\" width=\"700\"/></center>\n",
    "\n"
   ],
   "metadata": {
    "collapsed": false
   }
  },
  {
   "cell_type": "markdown",
   "source": [
    "## Reliability\n",
    "\n",
    "### Mean time between failures\n",
    "\n",
    "Mean time between failures (MTBF) is the average amount of time between system failures. This metric directly affects uptime. A low MTBF means the system(s) are failing often. The higher the time between failure, the more reliable the system.\n",
    "\n",
    "$${\\text{MTBF}}={\\frac {\\sum {({\\text{start of downtime}}-{\\text{start of uptime}})}}{\\text{number of failures}}}$$\n",
    "\n",
    "Consider the following example. Light bulb A lasts 20 hours. Light bulb B lasts 18. Bulb C lasts 21. And bulb D lasts 21 hours. That’s a total of 80 bulb hours. Divided by four, the MTTF is 20 hours.\n",
    "\n",
    " &nbsp;\n",
    "<center><img top-margin=\"10px\" alt=\"Light bulb MTBF\" src=\"imgs\\lightbulb.png\" width=\"700\"/></center>\n"
   ],
   "metadata": {
    "collapsed": false
   }
  },
  {
   "cell_type": "code",
   "execution_count": 33,
   "outputs": [],
   "source": [
    "#import the necessary libraries\n",
    "import numpy as np\n",
    "import pandas as pd\n",
    "import matplotlib.pyplot as plt\n"
   ],
   "metadata": {
    "collapsed": false
   }
  },
  {
   "cell_type": "code",
   "execution_count": 34,
   "outputs": [
    {
     "name": "stdout",
     "output_type": "stream",
     "text": [
      "The columns of the csv file are: \n",
      "0 - Column:  Equipment ID\n",
      "1 - Column:  Date repair\n",
      "2 - Column:  Time repair\n",
      "3 - Column:  End date repair\n",
      "4 - Column:  End time repair\n",
      "5 - Column:  Support time (minutes)\n",
      "6 - Column:  Total maintenance time (minutes)\n",
      "7 - Column:  Cost\n",
      "8 - Column:  New parts used\n",
      "  Equipment ID Date repair Time repair End date repair End time repair  \\\n",
      "0            A    1/4/2021     0:00:00        1/4/2021         7:20:00   \n",
      "1            A   1/30/2021     1:14:00       1/30/2021         8:09:00   \n",
      "2            A   2/25/2021     1:55:00       2/25/2021         7:43:00   \n",
      "3            A    3/9/2021     2:35:00        3/9/2021         5:25:00   \n",
      "4            A    4/7/2021     3:49:00        4/7/2021         7:20:00   \n",
      "\n",
      "   Support time (minutes)  Total maintenance time (minutes)      Cost  \\\n",
      "0                      65                               440  58701.14   \n",
      "1                     120                               415  46799.76   \n",
      "2                     167                               348  29263.73   \n",
      "3                      10                               170  26766.93   \n",
      "4                      75                               211  22742.36   \n",
      "\n",
      "   New parts used  \n",
      "0               7  \n",
      "1               0  \n",
      "2              24  \n",
      "3              24  \n",
      "4               1  \n"
     ]
    }
   ],
   "source": [
    "# Import the data in csv file\n",
    "repairs_dt = pd.read_csv('data/les01_RAMSdata.csv')\n",
    "# Read the columns\n",
    "print('The columns of the csv file are: ')\n",
    "# Iterate over two arrays (column names and index) and print accordingly\n",
    "for colname, i in zip(repairs_dt.columns, range(len(repairs_dt.columns))):\n",
    "    print(i, '- Column: ', colname)\n",
    "# print the 5 first rows of the dataframe\n",
    "print(repairs_dt.head())"
   ],
   "metadata": {
    "collapsed": false
   }
  },
  {
   "cell_type": "code",
   "execution_count": 35,
   "outputs": [
    {
     "name": "stdout",
     "output_type": "stream",
     "text": [
      "The MTBF is  25.88 days\n"
     ]
    }
   ],
   "source": [
    "total_dowtime = np.sum(repairs_dt['Total maintenance time (minutes)'])\n",
    "total_time = 60 * 24 * 365 #minutes in year\n",
    "total_uptime = total_time - total_dowtime\n",
    "number_failures = len(repairs_dt['Total maintenance time (minutes)'])\n",
    "MTBF = total_uptime / number_failures\n",
    "print('The MTBF is ', round(MTBF/(60*24),2), 'days')"
   ],
   "metadata": {
    "collapsed": false
   }
  },
  {
   "cell_type": "markdown",
   "source": [
    "## Maintainability\n",
    "\n",
    "### Mean downtime and Mean time to repair and Mean repair costs\n",
    "\n",
    "Mean downtime is calculated by adding up all the downtime in a specific period and dividing it by the number of failures. Is a high-level metric that helps you identify if you have a problem. However, if you want to diagnose where the problem lies (is it an issue with your warning system? Is the team taking too long on fixes? Does it take too long for someone to respond to a fix request?), you’ll need more data. Because there’s more than one thing happening between failure and recovery.\n",
    "\n",
    "Mean downtime (MDT) can be defined as\n",
    "\n",
    "$${\\text{MDT}={\\frac {\\sum {({\\text{start of uptime}}-{\\text{start of downtime}})}}{\\text{number of failures}}}$$\n",
    "\n",
    "MTTR (mean time to repair) is the average time it takes to resolve a failure after the support (logistics/equipment) is settled. This includes the time repairing the issue after the support has arrived.\n",
    "\n",
    "$${\\text{MTTR}={\\frac {\\sum {({\\text{start of uptime}}-{\\text{end of supportime}})}}{\\text{number of failures}}}$$\n",
    "\n",
    "MRC (mean repair cost) is the average cost it takes to fix a failure after. It is also an important maintainabiliy indicator\n",
    "\n",
    "$${\\text{MRC}={\\frac {\\sum {({\\text{repair cost}})}}{\\text{number of failures}}}$$"
   ],
   "metadata": {
    "collapsed": false
   }
  },
  {
   "cell_type": "code",
   "execution_count": 36,
   "outputs": [
    {
     "name": "stdout",
     "output_type": "stream",
     "text": [
      "The mean downtime is 278.0 minutes\n"
     ]
    }
   ],
   "source": [
    "total_downtime = np.sum(repairs_dt['Total maintenance time (minutes)'])\n",
    "number_failures = len(repairs_dt)\n",
    "MDT = total_downtime / number_failures\n",
    "print('The mean downtime is', round(MDT, 2), 'minutes')"
   ],
   "metadata": {
    "collapsed": false
   }
  },
  {
   "cell_type": "code",
   "execution_count": 37,
   "outputs": [
    {
     "name": "stdout",
     "output_type": "stream",
     "text": [
      "The mean time to repair is 165.43 minutes\n"
     ]
    }
   ],
   "source": [
    "total_repairtime = np.sum(repairs_dt['Total maintenance time (minutes)']  - repairs_dt['Support time (minutes)'])\n",
    "number_failures = len(repairs_dt)\n",
    "MTTR = total_repairtime / number_failures\n",
    "print('The mean time to repair is', round(MTTR, 2), 'minutes')"
   ],
   "metadata": {
    "collapsed": false
   }
  },
  {
   "cell_type": "code",
   "execution_count": 38,
   "outputs": [
    {
     "name": "stdout",
     "output_type": "stream",
     "text": [
      "The mean repair cost is 27785.85 euros per repair\n"
     ]
    }
   ],
   "source": [
    "total_repaircost = np.sum(repairs_dt['Cost'])\n",
    "number_failures = len(repairs_dt)\n",
    "MRC = total_repaircost / number_failures\n",
    "print('The mean repair cost is', round(MRC, 2), 'euros per repair')"
   ],
   "metadata": {
    "collapsed": false
   }
  },
  {
   "cell_type": "markdown",
   "source": [
    "## Supportability\n",
    "\n",
    "### Mean time to support\n",
    "\n",
    "Mean time to support is calculated by adding up all the support times in a specific period and dividing it by the number of failures. Is a high-level metric that helps you identify if you have a problem in your logistics and support function.\n",
    "\n",
    "Mean time to support (MTTS) can be defined as\n",
    "\n",
    "$${\\text{MTTS}={\\frac {\\sum {({\\text{support time}})}}{\\text{number of failures}}}$$\n",
    "\n",
    "Another important metric is the ratio of support time over downtime:\n",
    "\n",
    "$${\\text{ratio}_{support}={\\frac {{({\\text{total support time}})}}{\\text{total downtime}}}$$\n",
    "\n",
    "You can also calculate other supportability metrics such as the maximum number of parts required for a repair:\n",
    "\n",
    "$$\\text{MTTS}=\\max{(\\text{number support parts})}$$\n",
    "\n"
   ],
   "metadata": {
    "collapsed": false
   }
  },
  {
   "cell_type": "code",
   "execution_count": 39,
   "outputs": [
    {
     "name": "stdout",
     "output_type": "stream",
     "text": [
      "The mean time to support is 112.57 minutes\n"
     ]
    }
   ],
   "source": [
    "total_supporttime = np.sum(repairs_dt['Support time (minutes)'])\n",
    "number_failures = len(repairs_dt)\n",
    "MTTS = total_supporttime / number_failures\n",
    "print('The mean time to support is', round(MTTS, 2), 'minutes')"
   ],
   "metadata": {
    "collapsed": false
   }
  },
  {
   "cell_type": "code",
   "execution_count": 40,
   "outputs": [
    {
     "name": "stdout",
     "output_type": "stream",
     "text": [
      "The percentage of repair time doing support is 40.49 %\n"
     ]
    }
   ],
   "source": [
    "ratio_support_time = round(MTTS / MDT * 100, 2)\n",
    "print('The percentage of repair time doing support is', ratio_support_time, '%')"
   ],
   "metadata": {
    "collapsed": false
   }
  },
  {
   "cell_type": "code",
   "execution_count": 43,
   "outputs": [
    {
     "name": "stdout",
     "output_type": "stream",
     "text": [
      "The maximum number of parts required per repair is 24\n"
     ]
    }
   ],
   "source": [
    "parts = repairs_dt['New parts used']\n",
    "max_part_required = np.max(parts)\n",
    "print('The maximum number of parts required per repair is', max_part_required)"
   ],
   "metadata": {
    "collapsed": false
   }
  },
  {
   "cell_type": "markdown",
   "source": [
    "## Availability\n",
    "\n",
    "Service availability measures the level of operation of the system. It is the uptime over he total time (uptime + downtime).\n",
    "\n",
    "$$ A={\\frac {\\mathrm {uptime}}{\\mathrm {uptime}+\\mathrm {downtime}}}={\\frac {\\mathrm {uptime}}{C}}$$\n",
    "\n",
    "Another equation for availability (A) is a ratio of the Mean Time between Failure (MTBF) and Mean down time (MDT), or\n",
    "\n",
    "$$ A={\\frac {MTBF}{MTBF+MDT}}$$"
   ],
   "metadata": {
    "collapsed": false
   }
  },
  {
   "cell_type": "code",
   "execution_count": 42,
   "outputs": [
    {
     "name": "stdout",
     "output_type": "stream",
     "text": [
      "Availability of 0.9925951293759513\n",
      "Availability of 0.9925951293759513\n"
     ]
    }
   ],
   "source": [
    "A = MTBF / (MTBF + MDT)\n",
    "print('Availability of', A)\n",
    "A = total_uptime / (total_uptime + total_dowtime)\n",
    "print('Availability of', A)"
   ],
   "metadata": {
    "collapsed": false
   }
  }
 ],
 "metadata": {
  "kernelspec": {
   "display_name": "Python 3",
   "language": "python",
   "name": "python3"
  },
  "language_info": {
   "codemirror_mode": {
    "name": "ipython",
    "version": 2
   },
   "file_extension": ".py",
   "mimetype": "text/x-python",
   "name": "python",
   "nbconvert_exporter": "python",
   "pygments_lexer": "ipython2",
   "version": "2.7.6"
  }
 },
 "nbformat": 4,
 "nbformat_minor": 0
}
