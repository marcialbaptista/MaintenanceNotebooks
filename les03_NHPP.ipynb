{
 "cells": [
  {
   "cell_type": "markdown",
   "source": [
    "# AE4465 (MM&A) - Lecture3 (NHPP process)\n",
    "\n",
    "A non-stationary non-homogeneous poisson process is defined by means of the parameter $\\lambda(t)$ called the intensity function. The Power Law Process (PLP) developed by Crow in 1974 is a NHPP model that is widely used in the field of electrotechnics to represent the failure process of repairable components. Its intensity function is $$\\lambda(t) = \\lambda \\beta t^{\\beta -1}$$\n",
    "\n",
    "The shape parameter determines the tendency of the model; for $\\beta > 1$ the tendency is positive, for $\\beta < 1$ it is negative and for $\\beta = 1$ the tendency is zero and the process is equal to the HPP."
   ],
   "metadata": {
    "collapsed": false
   },
   "outputs": [
    {
     "ename": "SyntaxError",
     "evalue": "invalid syntax (1593724086.py, line 3)",
     "output_type": "error",
     "traceback": [
      "\u001B[1;36m  Cell \u001B[1;32mIn [1], line 3\u001B[1;36m\u001B[0m\n\u001B[1;33m    A classical problem in maintenance is how to improve the reliability using mathematical models. In order to minimize failures in engineering systems, the designer must understand why and how failures occur. The knowledge of stochastic processes, governed by random numbers and distributions, is indispensable here.\u001B[0m\n\u001B[1;37m      ^\u001B[0m\n\u001B[1;31mSyntaxError\u001B[0m\u001B[1;31m:\u001B[0m invalid syntax\n"
     ]
    }
   ],
   "execution_count": 1
  },
  {
   "cell_type": "code",
   "execution_count": 2,
   "outputs": [],
   "source": [
    "import pandas as pd\n",
    "import matplotlib.pyplot as plt\n",
    "import numpy as np\n",
    "from scipy.stats import poisson\n",
    "import random\n",
    "import math"
   ],
   "metadata": {
    "collapsed": false
   }
  },
  {
   "cell_type": "markdown",
   "source": [
    "## Simulation of NHPP\n",
    "\n",
    "A common way to generate/simulate non-homogeneous Poisson processes is to use thinning. Candidate event times are generated at the maximal rate for the interval, and then thinned out by accepting a proportion of them based on the ratio of the instantaneous rate to the maximal rate. Unfortunately, this does not work if the maximal rate in the interval of interest is not finite, which can be the case when the rate function follows a power law with $\\beta < 1$.\n",
    "\n",
    "NIST has an online manual which describes a generating algorithm specific to the power law case:\n",
    "\n",
    "[NIST link](https://www.itl.nist.gov/div898/handbook/apr/section1/apr191.htm#Simulating%20NHPP%20Power%20Law%20Data)\n",
    "\n",
    "According to the link given above, in order to generate power law NHPP events with parameters $\\lambda$=0.5 and $\\beta$=0.35 you should generate exponential random variates with rate $\\lambda$, add that to the prior time raised to the bth power, and then take the bth root of the sum to yield the next event time:"
   ],
   "metadata": {
    "collapsed": false
   }
  },
  {
   "cell_type": "code",
   "execution_count": 13,
   "outputs": [],
   "source": [
    "# params is a list containing rate a and power b.\n",
    "# t is the amount of time to be simulated.\n",
    "\n",
    "def nhpp(params, t):\n",
    "    print('Time, Event')\n",
    "    time = 0.0\n",
    "    event = 0\n",
    "    while True:\n",
    "        # Generate b'th root of an exponential with rate \"a\",\n",
    "        # and update the simulated time accordingly\n",
    "        time = (time ** params[1] + random.expovariate(params[0])) ** (1/params[1])\n",
    "        event += 1\n",
    "        if time > t:\n",
    "            break\n",
    "        print(f\"{time},{event}\")"
   ],
   "metadata": {
    "collapsed": false
   }
  },
  {
   "cell_type": "code",
   "execution_count": 11,
   "outputs": [
    {
     "name": "stdout",
     "output_type": "stream",
     "text": [
      "Time, Event\n",
      "4.237772803271449,1\n",
      "16.06476613621768,2\n",
      "100.36726001791418,3\n",
      "1783.3933732146074,4\n",
      "2401.8208452490744,5\n",
      "3600.6281500069613,6\n",
      "3760.9096774328136,7\n",
      "4368.108421988095,8\n",
      "6113.340094708555,9\n",
      "6820.306888180944,10\n",
      "6919.193027100763,11\n"
     ]
    }
   ],
   "source": [
    "nhpp([0.5, 0.35], 10000)"
   ],
   "metadata": {
    "collapsed": false
   }
  }
 ],
 "metadata": {
  "kernelspec": {
   "display_name": "Python 3",
   "language": "python",
   "name": "python3"
  },
  "language_info": {
   "codemirror_mode": {
    "name": "ipython",
    "version": 2
   },
   "file_extension": ".py",
   "mimetype": "text/x-python",
   "name": "python",
   "nbconvert_exporter": "python",
   "pygments_lexer": "ipython2",
   "version": "2.7.6"
  }
 },
 "nbformat": 4,
 "nbformat_minor": 0
}
