{
 "cells": [
  {
   "cell_type": "markdown",
   "source": [
    "# AE4465 (MM&A) - Lecture4 (Moving Average for forecasting)\n",
    "\n",
    "In statistics, a Moving Average (MA) is a calculation to analyze data points by creating a series of averages of different subsets of the full data set.\n",
    "\n",
    "The moving average is a technique that is an average of any subset of numbers.\n",
    "\n",
    "$$f_{t+1} =\\frac{1}{m} \\sum_{k=0}^{m-1} y_{t-k}$$\n",
    "\n",
    "where\n",
    "$f_{t+1}$ is the forecast of the next value\n",
    "$m$ is the window size\n",
    "$y$ is the signal value at some moment in time\n",
    "\n",
    "In this tutorial you will learn how to use moving average to forecast a future trend of spare part demand.\n"
   ],
   "metadata": {
    "collapsed": false
   }
  },
  {
   "cell_type": "code",
   "execution_count": 2,
   "outputs": [],
   "source": [
    "#import the necessary libraries\n",
    "import numpy as np\n",
    "import pandas as pd\n",
    "import matplotlib.pyplot as plt"
   ],
   "metadata": {
    "collapsed": false
   }
  },
  {
   "cell_type": "code",
   "execution_count": 5,
   "outputs": [
    {
     "name": "stdout",
     "output_type": "stream",
     "text": [
      "The columns of the csv file are: \n",
      "0 - Column:  Month\n",
      "1 - Column:  Demand\n"
     ]
    },
    {
     "data": {
      "text/plain": "            Demand\nMonth             \n1949-01-01     112\n1949-02-01     118\n1949-03-01     132\n1949-04-01     129\n1949-05-01     121",
      "text/html": "<div>\n<style scoped>\n    .dataframe tbody tr th:only-of-type {\n        vertical-align: middle;\n    }\n\n    .dataframe tbody tr th {\n        vertical-align: top;\n    }\n\n    .dataframe thead th {\n        text-align: right;\n    }\n</style>\n<table border=\"1\" class=\"dataframe\">\n  <thead>\n    <tr style=\"text-align: right;\">\n      <th></th>\n      <th>Demand</th>\n    </tr>\n    <tr>\n      <th>Month</th>\n      <th></th>\n    </tr>\n  </thead>\n  <tbody>\n    <tr>\n      <th>1949-01-01</th>\n      <td>112</td>\n    </tr>\n    <tr>\n      <th>1949-02-01</th>\n      <td>118</td>\n    </tr>\n    <tr>\n      <th>1949-03-01</th>\n      <td>132</td>\n    </tr>\n    <tr>\n      <th>1949-04-01</th>\n      <td>129</td>\n    </tr>\n    <tr>\n      <th>1949-05-01</th>\n      <td>121</td>\n    </tr>\n  </tbody>\n</table>\n</div>"
     },
     "execution_count": 5,
     "metadata": {},
     "output_type": "execute_result"
    }
   ],
   "source": [
    "# Import the data in csv file\n",
    "sparepartdemand_dt = pd.read_csv('data/les04_MAdataforecast.csv')\n",
    "# Read the columns\n",
    "print('The columns of the csv file are: ')\n",
    "# Iterate over two arrays (column names and index) and print accordingly\n",
    "for colname, i in zip(sparepartdemand_dt.columns, range(len(sparepartdemand_dt.columns))):\n",
    "    print(i, '- Column: ', colname)\n",
    "sparepartdemand_dt['Month'] = pd.to_datetime(sparepartdemand_dt['Month'], format='%Y-%m')\n",
    "sparepartdemand_dt = sparepartdemand_dt.set_index('Month')\n",
    "sparepartdemand_dt.head()\n"
   ],
   "metadata": {
    "collapsed": false
   }
  },
  {
   "cell_type": "markdown",
   "source": [
    "### Split the data into training and testing sets"
   ],
   "metadata": {
    "collapsed": false
   }
  },
  {
   "cell_type": "code",
   "execution_count": 8,
   "outputs": [],
   "source": [
    "train_len = 120\n",
    "train = sparepartdemand_dt[0:train_len] # first 120 months as training set\n",
    "test = sparepartdemand_dt[train_len:] # last 24 months as out-of-time test set"
   ],
   "metadata": {
    "collapsed": false
   }
  },
  {
   "cell_type": "code",
   "execution_count": 10,
   "outputs": [
    {
     "name": "stderr",
     "output_type": "stream",
     "text": [
      "C:\\Users\\Owner\\AppData\\Local\\Temp\\ipykernel_46296\\2828286814.py:5: SettingWithCopyWarning: \n",
      "A value is trying to be set on a copy of a slice from a DataFrame\n",
      "\n",
      "See the caveats in the documentation: https://pandas.pydata.org/pandas-docs/stable/user_guide/indexing.html#returning-a-view-versus-a-copy\n",
      "  y_hat_sma['sma_forecast'][train_len:] = y_hat_sma['sma_forecast'][train_len-1]\n"
     ]
    },
    {
     "data": {
      "text/plain": "<Figure size 640x480 with 1 Axes>",
      "image/png": "[encoded data removed]"
     },
     "metadata": {},
     "output_type": "display_data"
    }
   ],
   "source": [
    "y_hat_sma = sparepartdemand_dt.copy()\n",
    "ma_window = 12\n",
    "y_hat_sma['sma_forecast'] = sparepartdemand_dt['Demand'].rolling(ma_window).mean()\n",
    "\n",
    "y_hat_sma['sma_forecast'][train_len:] = y_hat_sma['sma_forecast'][train_len-1]\n",
    "\n",
    "plt.plot(y_hat_sma['sma_forecast'])\n",
    "plt.show()"
   ],
   "metadata": {
    "collapsed": false
   }
  },
  {
   "cell_type": "markdown",
   "source": [
    "### Forecast\n",
    "We are predicting the test set to be equal to the last value of the moving average"
   ],
   "metadata": {
    "collapsed": false
   }
  },
  {
   "cell_type": "code",
   "execution_count": null,
   "outputs": [],
   "source": [
    "plt.figure(figsize=(20,5))\n",
    "plt.grid()\n",
    "plt.plot(train['Demand'], label='Train')\n",
    "plt.plot(test['Demand'], label='Test')\n",
    "plt.plot(y_hat_sma['sma_forecast'], label='Simple moving average forecast')\n",
    "plt.legend(loc='best')\n",
    "plt.title('Simple Moving Average Method')\n",
    "plt.show()"
   ],
   "metadata": {
    "collapsed": false
   }
  },
  {
   "cell_type": "markdown",
   "source": [
    "### Conclusion\n",
    "Moving averages are calculated based on historical data and it is not so much a predictive exercise. Therefore, results using moving averages can be random.\n",
    "\n",
    "Moving averages work quite well in strong trending conditions but poorly in varying conditions. Adjusting the time frame can address this problem temporarily, though in some case studies, these issues are likely to occur regardless of the time frame chosen for the moving average(s)."
   ],
   "metadata": {
    "collapsed": false
   }
  }
 ],
 "metadata": {
  "kernelspec": {
   "display_name": "Python 3",
   "language": "python",
   "name": "python3"
  },
  "language_info": {
   "codemirror_mode": {
    "name": "ipython",
    "version": 2
   },
   "file_extension": ".py",
   "mimetype": "text/x-python",
   "name": "python",
   "nbconvert_exporter": "python",
   "pygments_lexer": "ipython2",
   "version": "2.7.6"
  }
 },
 "nbformat": 4,
 "nbformat_minor": 0
}
